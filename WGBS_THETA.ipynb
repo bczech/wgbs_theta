{
 "cells": [
  {
   "cell_type": "markdown",
   "metadata": {},
   "source": [
    "### Set working directory"
   ]
  },
  {
   "cell_type": "code",
   "execution_count": 12,
   "metadata": {},
   "outputs": [
    {
     "name": "stdout",
     "output_type": "stream",
     "text": [
      "/Users/bartosz/theta_methyl\n"
     ]
    }
   ],
   "source": [
    "%cd ~/theta_methyl/"
   ]
  },
  {
   "cell_type": "markdown",
   "metadata": {},
   "source": [
    "### Download FASTQ file"
   ]
  },
  {
   "cell_type": "code",
   "execution_count": 11,
   "metadata": {
    "scrolled": true
   },
   "outputs": [
    {
     "name": "stdout",
     "output_type": "stream",
     "text": [
      "--2023-03-20 22:11:01--  ftp://ftp.sra.ebi.ac.uk/vol1/fastq/SRR617/001/SRR6176401/SRR6176401.fastq.gz\n",
      "           => 'SRR6176401.fastq.gz'\n",
      "Resolving ftp.sra.ebi.ac.uk... 193.62.193.138\n",
      "Connecting to ftp.sra.ebi.ac.uk|193.62.193.138|:21... connected.\n",
      "Logging in as anonymous ... Logged in!\n",
      "==> SYST ... done.    ==> PWD ... done.\n",
      "==> TYPE I ... done.  ==> CWD (1) /vol1/fastq/SRR617/001/SRR6176401 ... done.\n",
      "==> SIZE SRR6176401.fastq.gz ... 1081731478\n",
      "==> PASV ... done.    ==> RETR SRR6176401.fastq.gz ... done.\n",
      "Length: 1081731478 (1.0G) (unauthoritative)\n",
      "\n",
      "SRR6176401.fastq.gz 100%[===================>]   1.01G  2.28MB/s    in 7m 13s  \n",
      "\n",
      "2023-03-20 22:18:15 (2.38 MB/s) - 'SRR6176401.fastq.gz' saved [1081731478]\n",
      "\n"
     ]
    }
   ],
   "source": [
    "!wget ftp://ftp.sra.ebi.ac.uk/vol1/fastq/SRR617/001/SRR6176401/SRR6176401.fastq.gz"
   ]
  },
  {
   "cell_type": "markdown",
   "metadata": {},
   "source": [
    "### Download reference genome (let's download only one chromosome to make the analysis faster)\n",
    "###### https://ftp.ensemblgenomes.ebi.ac.uk/pub/plants/release-56/fasta/arabidopsis_thaliana/dna/Arabidopsis_thaliana.TAIR10.dna.chromosome.1.fa.gz"
   ]
  },
  {
   "cell_type": "code",
   "execution_count": 31,
   "metadata": {},
   "outputs": [
    {
     "name": "stdout",
     "output_type": "stream",
     "text": [
      "--2023-03-21 20:53:34--  https://ftp.ensemblgenomes.ebi.ac.uk/pub/plants/release-56/fasta/arabidopsis_thaliana/dna/Arabidopsis_thaliana.TAIR10.dna.chromosome.1.fa.gz\n",
      "Resolving ftp.ensemblgenomes.ebi.ac.uk... 193.62.193.141\n",
      "Connecting to ftp.ensemblgenomes.ebi.ac.uk|193.62.193.141|:443... connected.\n",
      "HTTP request sent, awaiting response... 200 OK\n",
      "Length: 9211107 (8.8M) [application/x-gzip]\n",
      "Saving to: 'Arabidopsis_thaliana.TAIR10.dna.chromosome.1.fa.gz'\n",
      "\n",
      "Arabidopsis_thalian 100%[===================>]   8.78M  1.24MB/s    in 7.2s    \n",
      "\n",
      "2023-03-21 20:53:41 (1.23 MB/s) - 'Arabidopsis_thaliana.TAIR10.dna.chromosome.1.fa.gz' saved [9211107/9211107]\n",
      "\n"
     ]
    }
   ],
   "source": [
    "!wget https://ftp.ensemblgenomes.ebi.ac.uk/pub/plants/release-56/fasta/arabidopsis_thaliana/dna/Arabidopsis_thaliana.TAIR10.dna.chromosome.1.fa.gz"
   ]
  },
  {
   "cell_type": "code",
   "execution_count": 53,
   "metadata": {},
   "outputs": [
    {
     "name": "stdout",
     "output_type": "stream",
     "text": [
      ">1 dna:chromosome chromosome:TAIR10:1:1:30427671:1 REF\r\n",
      "CCCTAAACCCTAAACCCTAAACCCTAAACCTCTGAATCCTTAATCCCTAAATCCCTAAAT\r\n",
      "CTTTAAATCCTACATCCATGAATCCCTAAATACCTAATTCCCTAAACCCGAAACCGGTTT\r\n",
      "CTCTGGTTGAAAATCATTGTGTATATAATGATAATTTTATCGTTTTTATGTAATTGCTTA\r\n",
      "TTGTTGTGTGTAGATTTTTTAAAAATATCATTTGAGGTCAATACAAATCCTATTTCTTGT\r\n",
      "GGTTTTCTTTCCTTCACTTAGCTATGGATGGTTTATCTTCATTTGTTATATTGGATACAA\r\n",
      "GCTTTGCTACGATCTACATTTGGGAATGTGAGTCTCTTATTGTAACCTTAGGGTTGGTTT\r\n",
      "ATCTCAAGAATCTTATTAATTGTTTGGACTGTTTATGTTTGGACATTTATTGTCATTCTT\r\n",
      "ACTCCTTTGTGGAAATGTTTGTTCTATCAATTTATCTTTTGTGGGAAAATTATTTAGTTG\r\n",
      "TAGGGATGAAGTCTTTCTTCGTTGTTGTTACGCTTGTCATCTCATCTCTCAATGATATGG\r\n"
     ]
    }
   ],
   "source": [
    "!head <(gzcat Arabidopsis_thaliana.TAIR10.dna.chromosome.1.fa.gz)"
   ]
  },
  {
   "cell_type": "markdown",
   "metadata": {},
   "source": [
    "##### Imagine this file contains the whole reference genome. How to replace the header of FASTA file by presenting only:\n",
    "##### >1\n",
    "##### ...\n",
    "##### >2\n",
    "##### ...\n",
    "##### etc.? Replace the header by short chromosome name"
   ]
  },
  {
   "cell_type": "code",
   "execution_count": null,
   "metadata": {},
   "outputs": [],
   "source": []
  }
 ],
 "metadata": {
  "kernelspec": {
   "display_name": "Python 3",
   "language": "python",
   "name": "python3"
  },
  "language_info": {
   "codemirror_mode": {
    "name": "ipython",
    "version": 3
   },
   "file_extension": ".py",
   "mimetype": "text/x-python",
   "name": "python",
   "nbconvert_exporter": "python",
   "pygments_lexer": "ipython3",
   "version": "3.8.3"
  }
 },
 "nbformat": 4,
 "nbformat_minor": 4
}

{
 "cells": [
  {
   "cell_type": "code",
   "execution_count": 10,
   "metadata": {},
   "outputs": [
    {
     "name": "stdout",
     "output_type": "stream",
     "text": [
      "/Users/bartosz/theta_methyl\n"
     ]
    }
   ],
   "source": [
    "%cd ~/theta_methyl/"
   ]
  },
  {
   "cell_type": "code",
   "execution_count": null,
   "metadata": {
    "scrolled": true
   },
   "outputs": [
    {
     "name": "stdout",
     "output_type": "stream",
     "text": [
      "--2023-03-20 22:11:01--  ftp://ftp.sra.ebi.ac.uk/vol1/fastq/SRR617/001/SRR6176401/SRR6176401.fastq.gz\n",
      "           => 'SRR6176401.fastq.gz'\n",
      "Resolving ftp.sra.ebi.ac.uk... 193.62.193.138\n",
      "Connecting to ftp.sra.ebi.ac.uk|193.62.193.138|:21... connected.\n",
      "Logging in as anonymous ... Logged in!\n",
      "==> SYST ... done.    ==> PWD ... done.\n",
      "==> TYPE I ... done.  ==> CWD (1) /vol1/fastq/SRR617/001/SRR6176401 ... done.\n",
      "==> SIZE SRR6176401.fastq.gz ... 1081731478\n",
      "==> PASV ... done.    ==> RETR SRR6176401.fastq.gz ... done.\n",
      "Length: 1081731478 (1.0G) (unauthoritative)\n",
      "\n",
      "SRR6176401.fastq.gz  68%[============>       ] 711.43M  3.46MB/s    eta 77s    "
     ]
    }
   ],
   "source": [
    "!wget ftp://ftp.sra.ebi.ac.uk/vol1/fastq/SRR617/001/SRR6176401/SRR6176401.fastq.gz"
   ]
  },
  {
   "cell_type": "code",
   "execution_count": null,
   "metadata": {},
   "outputs": [],
   "source": []
  }
 ],
 "metadata": {
  "kernelspec": {
   "display_name": "Python 3",
   "language": "python",
   "name": "python3"
  },
  "language_info": {
   "codemirror_mode": {
    "name": "ipython",
    "version": 3
   },
   "file_extension": ".py",
   "mimetype": "text/x-python",
   "name": "python",
   "nbconvert_exporter": "python",
   "pygments_lexer": "ipython3",
   "version": "3.8.3"
  }
 },
 "nbformat": 4,
 "nbformat_minor": 4
}
